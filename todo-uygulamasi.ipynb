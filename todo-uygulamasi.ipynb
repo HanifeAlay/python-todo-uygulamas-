{
  "nbformat": 4,
  "nbformat_minor": 0,
  "metadata": {
    "colab": {
      "provenance": []
    },
    "kernelspec": {
      "name": "python3",
      "display_name": "Python 3"
    },
    "language_info": {
      "name": "python"
    }
  },
  "cells": [
    {
      "cell_type": "markdown",
      "source": [
        "# to_do_list_projesi"
      ],
      "metadata": {
        "id": "GveLAqNfV9Bv"
      }
    },
    {
      "cell_type": "code",
      "execution_count": 1,
      "metadata": {
        "id": "oKnwWJiTV1lx"
      },
      "outputs": [],
      "source": [
        "gorevler = [ ]"
      ]
    },
    {
      "cell_type": "code",
      "source": [
        "dosya_adi = \"gorevler.txt\""
      ],
      "metadata": {
        "id": "oDA_T2V9Wep5"
      },
      "execution_count": 2,
      "outputs": []
    },
    {
      "cell_type": "code",
      "source": [
        "def gorevleri_dosyadan_oku():\n",
        "    try:\n",
        "      with open(dosya_adi, \"r\", encoding = \"utf-8\" ) as dosya:\n",
        "        for satir in dosya:\n",
        "            gorev = satir.strip()\n",
        "            if gorev:\n",
        "                gorevler.append(gorev)\n",
        "      print (\"Görevler Başarıyla Yüklendi. \")\n",
        "    except FileNotFoundError:\n",
        "      print(\"Görev dosyası bulunamadı. Yeni bir liste oluşturuldu. \")"
      ],
      "metadata": {
        "id": "W2XoSYaRW3cd"
      },
      "execution_count": 3,
      "outputs": []
    },
    {
      "cell_type": "code",
      "source": [
        "def gorevleri_dosyaya_kaydet():\n",
        "    try:\n",
        "       with open(\"gorevler.txt\", \"w\", encoding=\"utf-8\" ) as dosya:\n",
        "           for gorev in gorevler:\n",
        "               dosya.write(gorev + \"\\n\")\n",
        "    except Exception as e:\n",
        "        print(\"Dosya kaydetme hatası:\", e)"
      ],
      "metadata": {
        "id": "8IQU4e_0r111"
      },
      "execution_count": 4,
      "outputs": []
    },
    {
      "cell_type": "code",
      "source": [
        "def gorevleri_listele():\n",
        "    if not gorevler:\n",
        "        print(\"Görev listesi boş.\")\n",
        "    else:\n",
        "        print(\"Görev Listesi:\")\n",
        "        for i, gorev in enumerate(gorevler, 1):\n",
        "            print(f\"{i}. {gorev}\")"
      ],
      "metadata": {
        "id": "840Ubqa-bfmS"
      },
      "execution_count": 5,
      "outputs": []
    },
    {
      "cell_type": "code",
      "source": [
        "# Yeni görev ekleme fonksiyonu\n",
        "def yeni_gorev_ekle():\n",
        "  while True:\n",
        "    yeni_gorev = input (\"Yeni görev girin(Çıkmak için boş bırakın): \")\n",
        "    if yeni_gorev.strip() == \"\":\n",
        "      print(\"Görev ekleme işlemi sonlandırıldı. Ana menüye yönlendiriliyorsunuz..🔁 \")\n",
        "      break\n",
        "    else:\n",
        "      gorevler.append(yeni_gorev)\n",
        "      gorevleri_dosyaya_kaydet()\n",
        "      print(f\"'{yeni_gorev}' görevi başarıyla eklendin. ✅\")\n",
        ""
      ],
      "metadata": {
        "id": "oBVE-4occ7bu"
      },
      "execution_count": 6,
      "outputs": []
    },
    {
      "cell_type": "code",
      "source": [
        "def gorev_duzenle():\n",
        "    gorevleri_listele()\n",
        "    try:\n",
        "        secim = int(input(\"Düzenlemek istediğiniz görevin numarası: \"))\n",
        "        if 1 <= secim <= len(gorevler):\n",
        "            yeni_gorev = input(f\"Yeni görev metni (şu anki: {gorevler[secim -1]}): \").strip()\n",
        "            if yeni_gorev:\n",
        "              gorevler[secim - 1] = yeni_gorev\n",
        "              print(\"Görev başarıyla güncellendi.\")\n",
        "            else:\n",
        "                print(\"Boş görev girilemez! \")\n",
        "        else:\n",
        "          print(\"Geçersiz görev numarası!\")\n",
        "    except ValueError:\n",
        "      print(\"Lütfen geçerli bir sayı giriniz!\")\n"
      ],
      "metadata": {
        "id": "MkCZ6eilfH9n"
      },
      "execution_count": 7,
      "outputs": []
    },
    {
      "cell_type": "code",
      "source": [
        "def gorev_sil():\n",
        "    gorevleri_listele()\n",
        "    try:\n",
        "      print(\"Silme işlemini işlemini iptal etmek için 0 yazın\")\n",
        "      numara = int(input(\"Silmek istediğiniz görevin numarasını girin: \"))\n",
        "      if numara == 0:\n",
        "        print(\"Silme işlemi iptal edildi.\\n\")\n",
        "        return\n",
        "      if 1 <= numara <= len(gorevler):\n",
        "         silinen = gorevler.pop(numara - 1)\n",
        "         print(f\"'{silinen}' görevi silindi.\")\n",
        "         gorevleri_dosyaya_kaydet()\n",
        "      else:\n",
        "         print(\"Geçersiz görev numarası! \")\n",
        "    except ValueError:\n",
        "        print(\"Geçersiz giriş! Lütfen bir sayı girin. \")\n"
      ],
      "metadata": {
        "id": "ophP4jJTzx0S"
      },
      "execution_count": 8,
      "outputs": []
    },
    {
      "cell_type": "code",
      "source": [
        "def menu_goster():\n",
        "    print(\"\\n\" + \"=\"*40)\n",
        "    print(\"📝 GÜNLÜK BAŞARILI GÖREVLER UYGULAMASINA HOŞ GELDİNİZ 🤍\")\n",
        "    print(\"=\"*40)\n",
        "    print(\"1️⃣ Hadi Görevleri Listeleyim Hazır mısın ? 😉\")\n",
        "    print(\"2️⃣ Yeni Görevleri Ekleme Zamanı 📋\")\n",
        "    print(\"3️⃣ Görevini Düzenle ✍️\")\n",
        "    print(\"4️⃣ Artık Bitirdiğin görevlerini silebilirsin 🥳\")\n",
        "    print(\"5️⃣ Çıkış 😔\")\n",
        "    print(\"=\"*40)"
      ],
      "metadata": {
        "id": "9xPt7zHgh_8X"
      },
      "execution_count": 9,
      "outputs": []
    },
    {
      "cell_type": "code",
      "source": [
        "def basarili_mesaj():\n",
        "    print(\"\"\"\\n Tebrikler Görevini Tamamladın 👏🏻\n",
        "          Bir günde kelbeğe dönüşemezsin 🦋\n",
        "         ama lütfen çalışmaya devam et\n",
        "         Başaracağına inanıyorum 🤍 🥳 \"\"\")"
      ],
      "metadata": {
        "id": "wSqeQNAUj5lH"
      },
      "execution_count": 10,
      "outputs": []
    },
    {
      "cell_type": "code",
      "source": [
        "def ana_menu():\n",
        "    while True:\n",
        "        menu_goster()\n",
        "\n",
        "        secim = input(\"Seçiminiz (1-5): \")\n",
        "\n",
        "        if secim == \"1\":\n",
        "           gorevleri_listele()\n",
        "        elif secim == \"2\":\n",
        "           yeni_gorev_ekle()\n",
        "        elif secim ==\"3\":\n",
        "          gorev_duzenle()\n",
        "        elif secim == \"4\":\n",
        "          gorev_sil()\n",
        "        elif secim == \"5\":\n",
        "          basarili_mesaj ()\n",
        "          break\n",
        "        else:\n",
        "          print(\"Geçersiz seçim! Lütfen 1-5 arasında bir sayı giriniz. \")"
      ],
      "metadata": {
        "id": "3Wb_ZzN9ta6B"
      },
      "execution_count": 11,
      "outputs": []
    },
    {
      "cell_type": "code",
      "source": [
        "menu_goster()"
      ],
      "metadata": {
        "colab": {
          "base_uri": "https://localhost:8080/",
          "height": 0
        },
        "id": "seP4N51pnA2g",
        "outputId": "d89d886f-19d1-417e-c1fc-ed0257a0ca12"
      },
      "execution_count": 12,
      "outputs": [
        {
          "output_type": "stream",
          "name": "stdout",
          "text": [
            "\n",
            "========================================\n",
            "📝 GÜNLÜK BAŞARILI GÖREVLER UYGULAMASINA HOŞ GELDİNİZ 🤍\n",
            "========================================\n",
            "1️⃣ Hadi Görevleri Listeleyim Hazır mısın ? 😉\n",
            "2️⃣ Yeni Görevleri Ekleme Zamanı 📋\n",
            "3️⃣ Görevini Düzenle ✍️\n",
            "4️⃣ Artık Bitirdiğin görevlerini silebilirsin 🥳\n",
            "5️⃣ Çıkış 😔\n",
            "========================================\n"
          ]
        }
      ]
    },
    {
      "cell_type": "code",
      "source": [
        "\n",
        "ana_menu()"
      ],
      "metadata": {
        "colab": {
          "base_uri": "https://localhost:8080/",
          "height": 0
        },
        "id": "qIocsqx-nU67",
        "outputId": "eb780c4e-9592-4899-d10e-04b29edca38c"
      },
      "execution_count": 13,
      "outputs": [
        {
          "output_type": "stream",
          "name": "stdout",
          "text": [
            "\n",
            "========================================\n",
            "📝 GÜNLÜK BAŞARILI GÖREVLER UYGULAMASINA HOŞ GELDİNİZ 🤍\n",
            "========================================\n",
            "1️⃣ Hadi Görevleri Listeleyim Hazır mısın ? 😉\n",
            "2️⃣ Yeni Görevleri Ekleme Zamanı 📋\n",
            "3️⃣ Görevini Düzenle ✍️\n",
            "4️⃣ Artık Bitirdiğin görevlerini silebilirsin 🥳\n",
            "5️⃣ Çıkış 😔\n",
            "========================================\n",
            "Seçiminiz (1-5): 1\n",
            "Görev listesi boş.\n",
            "\n",
            "========================================\n",
            "📝 GÜNLÜK BAŞARILI GÖREVLER UYGULAMASINA HOŞ GELDİNİZ 🤍\n",
            "========================================\n",
            "1️⃣ Hadi Görevleri Listeleyim Hazır mısın ? 😉\n",
            "2️⃣ Yeni Görevleri Ekleme Zamanı 📋\n",
            "3️⃣ Görevini Düzenle ✍️\n",
            "4️⃣ Artık Bitirdiğin görevlerini silebilirsin 🥳\n",
            "5️⃣ Çıkış 😔\n",
            "========================================\n",
            "Seçiminiz (1-5): 2\n",
            "Yeni görev girin(Çıkmak için boş bırakın): AutoCAD görevine başla\n",
            "'AutoCAD görevine başla' görevi başarıyla eklendin. ✅\n",
            "Yeni görev girin(Çıkmak için boş bırakın): Salı gunu teslim unuyma\n",
            "'Salı gunu teslim unuyma' görevi başarıyla eklendin. ✅\n",
            "Yeni görev girin(Çıkmak için boş bırakın): \n",
            "Görev ekleme işlemi sonlandırıldı. Ana menüye yönlendiriliyorsunuz..🔁 \n",
            "\n",
            "========================================\n",
            "📝 GÜNLÜK BAŞARILI GÖREVLER UYGULAMASINA HOŞ GELDİNİZ 🤍\n",
            "========================================\n",
            "1️⃣ Hadi Görevleri Listeleyim Hazır mısın ? 😉\n",
            "2️⃣ Yeni Görevleri Ekleme Zamanı 📋\n",
            "3️⃣ Görevini Düzenle ✍️\n",
            "4️⃣ Artık Bitirdiğin görevlerini silebilirsin 🥳\n",
            "5️⃣ Çıkış 😔\n",
            "========================================\n",
            "Seçiminiz (1-5): 3\n",
            "Görev Listesi:\n",
            "1. AutoCAD görevine başla\n",
            "2. Salı gunu teslim unuyma\n",
            "Düzenlemek istediğiniz görevin numarası: 2\n",
            "Yeni görev metni (şu anki: Salı gunu teslim unuyma): Salı günü son teslim tarihi\n",
            "Görev başarıyla güncellendi.\n",
            "\n",
            "========================================\n",
            "📝 GÜNLÜK BAŞARILI GÖREVLER UYGULAMASINA HOŞ GELDİNİZ 🤍\n",
            "========================================\n",
            "1️⃣ Hadi Görevleri Listeleyim Hazır mısın ? 😉\n",
            "2️⃣ Yeni Görevleri Ekleme Zamanı 📋\n",
            "3️⃣ Görevini Düzenle ✍️\n",
            "4️⃣ Artık Bitirdiğin görevlerini silebilirsin 🥳\n",
            "5️⃣ Çıkış 😔\n",
            "========================================\n",
            "Seçiminiz (1-5): 4\n",
            "Görev Listesi:\n",
            "1. AutoCAD görevine başla\n",
            "2. Salı günü son teslim tarihi\n",
            "Silme işlemini işlemini iptal etmek için 0 yazın\n",
            "Silmek istediğiniz görevin numarasını girin: 0\n",
            "Silme işlemi iptal edildi.\n",
            "\n",
            "\n",
            "========================================\n",
            "📝 GÜNLÜK BAŞARILI GÖREVLER UYGULAMASINA HOŞ GELDİNİZ 🤍\n",
            "========================================\n",
            "1️⃣ Hadi Görevleri Listeleyim Hazır mısın ? 😉\n",
            "2️⃣ Yeni Görevleri Ekleme Zamanı 📋\n",
            "3️⃣ Görevini Düzenle ✍️\n",
            "4️⃣ Artık Bitirdiğin görevlerini silebilirsin 🥳\n",
            "5️⃣ Çıkış 😔\n",
            "========================================\n",
            "Seçiminiz (1-5): 5\n",
            "\n",
            " Tebrikler Görevini Tamamladın 👏🏻\n",
            "          Bir günde kelbeğe dönüşemezsin 🦋 \n",
            "         ama lütfen çalışmaya devam et \n",
            "         Başaracağına inanıyorum 🤍 🥳 \n"
          ]
        }
      ]
    }
  ]
}
